{
 "cells": [
  {
   "cell_type": "code",
   "execution_count": 1,
   "metadata": {},
   "outputs": [
    {
     "name": "stderr",
     "output_type": "stream",
     "text": [
      "/Users/phyllisli19981111/miniconda3/lib/python3.7/site-packages/tensorflow/python/framework/dtypes.py:526: FutureWarning: Passing (type, 1) or '1type' as a synonym of type is deprecated; in a future version of numpy, it will be understood as (type, (1,)) / '(1,)type'.\n",
      "  _np_qint8 = np.dtype([(\"qint8\", np.int8, 1)])\n",
      "/Users/phyllisli19981111/miniconda3/lib/python3.7/site-packages/tensorflow/python/framework/dtypes.py:527: FutureWarning: Passing (type, 1) or '1type' as a synonym of type is deprecated; in a future version of numpy, it will be understood as (type, (1,)) / '(1,)type'.\n",
      "  _np_quint8 = np.dtype([(\"quint8\", np.uint8, 1)])\n",
      "/Users/phyllisli19981111/miniconda3/lib/python3.7/site-packages/tensorflow/python/framework/dtypes.py:528: FutureWarning: Passing (type, 1) or '1type' as a synonym of type is deprecated; in a future version of numpy, it will be understood as (type, (1,)) / '(1,)type'.\n",
      "  _np_qint16 = np.dtype([(\"qint16\", np.int16, 1)])\n",
      "/Users/phyllisli19981111/miniconda3/lib/python3.7/site-packages/tensorflow/python/framework/dtypes.py:529: FutureWarning: Passing (type, 1) or '1type' as a synonym of type is deprecated; in a future version of numpy, it will be understood as (type, (1,)) / '(1,)type'.\n",
      "  _np_quint16 = np.dtype([(\"quint16\", np.uint16, 1)])\n",
      "/Users/phyllisli19981111/miniconda3/lib/python3.7/site-packages/tensorflow/python/framework/dtypes.py:530: FutureWarning: Passing (type, 1) or '1type' as a synonym of type is deprecated; in a future version of numpy, it will be understood as (type, (1,)) / '(1,)type'.\n",
      "  _np_qint32 = np.dtype([(\"qint32\", np.int32, 1)])\n",
      "/Users/phyllisli19981111/miniconda3/lib/python3.7/site-packages/tensorflow/python/framework/dtypes.py:535: FutureWarning: Passing (type, 1) or '1type' as a synonym of type is deprecated; in a future version of numpy, it will be understood as (type, (1,)) / '(1,)type'.\n",
      "  np_resource = np.dtype([(\"resource\", np.ubyte, 1)])\n"
     ]
    }
   ],
   "source": [
    "import cv2\n",
    "import os, sys\n",
    "import argparse\n",
    "from six.moves import map, zip\n",
    "import numpy as np\n",
    "from glob import glob\n",
    "\n",
    "from model import Model\n",
    "from tensorpack import *\n",
    "from tensorpack.utils.viz import *\n",
    "import tensorpack.tfutils.symbolic_functions as symbf\n",
    "from tensorpack.tfutils.summary import add_moving_summary\n",
    "import tensorflow as tf\n",
    "from tensorflow.python.training import moving_averages\n",
    "from utils import *\n",
    "from GAN import GANTrainer, MultiGPUGANTrainer, SeparateGANTrainer, GANModelDesc"
   ]
  },
  {
   "cell_type": "code",
   "execution_count": 2,
   "metadata": {},
   "outputs": [
    {
     "name": "stdout",
     "output_type": "stream",
     "text": [
      "\u001b[32m[1204 21:09:41 @parallel.py:355]\u001b[0m [MultiProcessRunnerZMQ] Will fork a dataflow more than one times. This assumes the datapoints are i.i.d.\n"
     ]
    }
   ],
   "source": [
    "data_dir = \"../data/PetImages/\"\n",
    "data = get_data(data_dir)"
   ]
  },
  {
   "cell_type": "code",
   "execution_count": 3,
   "metadata": {},
   "outputs": [
    {
     "data": {
      "text/plain": [
       "<tensorpack.dataflow.parallel.MultiProcessRunnerZMQ at 0x146877978>"
      ]
     },
     "execution_count": 3,
     "metadata": {},
     "output_type": "execute_result"
    }
   ],
   "source": [
    "data"
   ]
  },
  {
   "cell_type": "code",
   "execution_count": 4,
   "metadata": {},
   "outputs": [],
   "source": [
    "data = QueueInput(data)"
   ]
  },
  {
   "cell_type": "code",
   "execution_count": 5,
   "metadata": {},
   "outputs": [
    {
     "data": {
      "text/plain": [
       "<tensorpack.input_source.input_source.QueueInput at 0x146877f28>"
      ]
     },
     "execution_count": 5,
     "metadata": {},
     "output_type": "execute_result"
    }
   ],
   "source": [
    "data"
   ]
  },
  {
   "cell_type": "code",
   "execution_count": 6,
   "metadata": {},
   "outputs": [
    {
     "name": "stdout",
     "output_type": "stream",
     "text": [
      "\u001b[32m[1204 21:09:44 @input_source.py:223]\u001b[0m Setting up the queue 'QueueInput/input_queue' for CPU prefetching ...\n",
      "\n",
      "WARNING: The TensorFlow contrib module will not be included in TensorFlow 2.0.\n",
      "For more information, please see:\n",
      "  * https://github.com/tensorflow/community/blob/master/rfcs/20180907-contrib-sunset.md\n",
      "  * https://github.com/tensorflow/addons\n",
      "If you depend on functionality not listed there, please file an issue.\n",
      "\n",
      "\u001b[32m[1204 21:09:46 @registry.py:90]\u001b[0m 'gen/B/conv0': [?, 3, 128, 128] --> [?, 64, 64, 64]\n",
      "\u001b[32m[1204 21:09:46 @registry.py:90]\u001b[0m 'gen/B/conv1': [?, 64, 64, 64] --> [?, 128, 32, 32]\n",
      "\u001b[32m[1204 21:09:46 @registry.py:90]\u001b[0m 'gen/B/layer1/res0/conv0': [?, 128, 32, 32] --> [?, 128, 32, 32]\n",
      "\u001b[32m[1204 21:09:46 @registry.py:90]\u001b[0m 'gen/B/layer1/res0/conv1': [?, 128, 32, 32] --> [?, 128, 32, 32]\n",
      "\u001b[32m[1204 21:09:47 @registry.py:90]\u001b[0m 'gen/B/layer1/res0/conv2': [?, 256, 32, 32] --> [?, 128, 32, 32]\n",
      "\u001b[32m[1204 21:09:47 @registry.py:90]\u001b[0m 'gen/B/layer1/res1/conv0': [?, 128, 32, 32] --> [?, 128, 32, 32]\n",
      "\u001b[32m[1204 21:09:47 @registry.py:90]\u001b[0m 'gen/B/layer1/res1/conv1': [?, 128, 32, 32] --> [?, 128, 32, 32]\n",
      "\u001b[32m[1204 21:09:47 @registry.py:90]\u001b[0m 'gen/B/layer1/res1/conv2': [?, 256, 32, 32] --> [?, 128, 32, 32]\n",
      "\u001b[32m[1204 21:09:47 @registry.py:90]\u001b[0m 'gen/B/layer1/res2/conv0': [?, 128, 32, 32] --> [?, 128, 32, 32]\n",
      "\u001b[32m[1204 21:09:47 @registry.py:90]\u001b[0m 'gen/B/layer1/res2/conv1': [?, 128, 32, 32] --> [?, 128, 32, 32]\n",
      "\u001b[32m[1204 21:09:47 @registry.py:90]\u001b[0m 'gen/B/layer1/res2/conv2': [?, 256, 32, 32] --> [?, 128, 32, 32]\n",
      "\u001b[32m[1204 21:09:47 @registry.py:90]\u001b[0m 'gen/B/conv2': [?, 128, 32, 32] --> [?, 256, 16, 16]\n",
      "\u001b[32m[1204 21:09:47 @registry.py:90]\u001b[0m 'gen/B/layer2/res0/conv0': [?, 256, 16, 16] --> [?, 256, 16, 16]\n",
      "\u001b[32m[1204 21:09:47 @registry.py:90]\u001b[0m 'gen/B/layer2/res0/conv1': [?, 256, 16, 16] --> [?, 256, 16, 16]\n",
      "\u001b[32m[1204 21:09:47 @registry.py:90]\u001b[0m 'gen/B/layer2/res0/conv2': [?, 512, 16, 16] --> [?, 256, 16, 16]\n",
      "\u001b[32m[1204 21:09:47 @registry.py:90]\u001b[0m 'gen/B/layer2/res1/conv0': [?, 256, 16, 16] --> [?, 256, 16, 16]\n",
      "\u001b[32m[1204 21:09:47 @registry.py:90]\u001b[0m 'gen/B/layer2/res1/conv1': [?, 256, 16, 16] --> [?, 256, 16, 16]\n",
      "\u001b[32m[1204 21:09:47 @registry.py:90]\u001b[0m 'gen/B/layer2/res1/conv2': [?, 512, 16, 16] --> [?, 256, 16, 16]\n",
      "\u001b[32m[1204 21:09:47 @registry.py:90]\u001b[0m 'gen/B/layer2/res2/conv0': [?, 256, 16, 16] --> [?, 256, 16, 16]\n",
      "\u001b[32m[1204 21:09:47 @registry.py:90]\u001b[0m 'gen/B/layer2/res2/conv1': [?, 256, 16, 16] --> [?, 256, 16, 16]\n",
      "\u001b[32m[1204 21:09:47 @registry.py:90]\u001b[0m 'gen/B/layer2/res2/conv2': [?, 512, 16, 16] --> [?, 256, 16, 16]\n",
      "\u001b[32m[1204 21:09:47 @registry.py:90]\u001b[0m 'gen/B/conv3': [?, 256, 16, 16] --> [?, 512, 8, 8]\n",
      "\u001b[32m[1204 21:09:47 @registry.py:90]\u001b[0m 'gen/B/layer3/res0/conv0': [?, 512, 8, 8] --> [?, 512, 8, 8]\n",
      "\u001b[32m[1204 21:09:47 @registry.py:90]\u001b[0m 'gen/B/layer3/res0/conv1': [?, 512, 8, 8] --> [?, 512, 8, 8]\n",
      "\u001b[32m[1204 21:09:47 @registry.py:90]\u001b[0m 'gen/B/layer3/res0/conv2': [?, 1024, 8, 8] --> [?, 512, 8, 8]\n",
      "\u001b[32m[1204 21:09:47 @registry.py:90]\u001b[0m 'gen/B/layer3/res1/conv0': [?, 512, 8, 8] --> [?, 512, 8, 8]\n",
      "\u001b[32m[1204 21:09:47 @registry.py:90]\u001b[0m 'gen/B/layer3/res1/conv1': [?, 512, 8, 8] --> [?, 512, 8, 8]\n",
      "\u001b[32m[1204 21:09:47 @registry.py:90]\u001b[0m 'gen/B/layer3/res1/conv2': [?, 1024, 8, 8] --> [?, 512, 8, 8]\n",
      "\u001b[32m[1204 21:09:47 @registry.py:90]\u001b[0m 'gen/B/layer3/res2/conv0': [?, 512, 8, 8] --> [?, 512, 8, 8]\n",
      "\u001b[32m[1204 21:09:47 @registry.py:90]\u001b[0m 'gen/B/layer3/res2/conv1': [?, 512, 8, 8] --> [?, 512, 8, 8]\n",
      "\u001b[32m[1204 21:09:48 @registry.py:90]\u001b[0m 'gen/B/layer3/res2/conv2': [?, 1024, 8, 8] --> [?, 512, 8, 8]\n",
      "\u001b[32m[1204 21:09:48 @registry.py:90]\u001b[0m 'gen/B/deconv0': [?, 512, 8, 8] --> [?, 256, 16, 16]\n",
      "\u001b[32m[1204 21:09:48 @registry.py:90]\u001b[0m 'gen/B/blayer2/res0/conv0': [?, 512, 16, 16] --> [?, 256, 16, 16]\n",
      "\u001b[32m[1204 21:09:48 @registry.py:90]\u001b[0m 'gen/B/blayer2/res0/conv1': [?, 256, 16, 16] --> [?, 256, 16, 16]\n",
      "\u001b[32m[1204 21:09:48 @registry.py:90]\u001b[0m 'gen/B/blayer2/res0/conv2': [?, 768, 16, 16] --> [?, 256, 16, 16]\n",
      "\u001b[32m[1204 21:09:48 @registry.py:90]\u001b[0m 'gen/B/blayer2/res1/conv0': [?, 256, 16, 16] --> [?, 256, 16, 16]\n",
      "\u001b[32m[1204 21:09:48 @registry.py:90]\u001b[0m 'gen/B/blayer2/res1/conv1': [?, 256, 16, 16] --> [?, 256, 16, 16]\n",
      "\u001b[32m[1204 21:09:48 @registry.py:90]\u001b[0m 'gen/B/blayer2/res1/conv2': [?, 512, 16, 16] --> [?, 256, 16, 16]\n",
      "\u001b[32m[1204 21:09:48 @registry.py:90]\u001b[0m 'gen/B/blayer2/res2/conv0': [?, 256, 16, 16] --> [?, 256, 16, 16]\n",
      "\u001b[32m[1204 21:09:48 @registry.py:90]\u001b[0m 'gen/B/blayer2/res2/conv1': [?, 256, 16, 16] --> [?, 256, 16, 16]\n",
      "\u001b[32m[1204 21:09:48 @registry.py:90]\u001b[0m 'gen/B/blayer2/res2/conv2': [?, 512, 16, 16] --> [?, 256, 16, 16]\n",
      "\u001b[32m[1204 21:09:48 @registry.py:90]\u001b[0m 'gen/B/deconv1': [?, 256, 16, 16] --> [?, 128, 32, 32]\n",
      "\u001b[32m[1204 21:09:48 @registry.py:90]\u001b[0m 'gen/B/blayer1/res0/conv0': [?, 256, 32, 32] --> [?, 128, 32, 32]\n",
      "\u001b[32m[1204 21:09:48 @registry.py:90]\u001b[0m 'gen/B/blayer1/res0/conv1': [?, 128, 32, 32] --> [?, 128, 32, 32]\n",
      "\u001b[32m[1204 21:09:48 @registry.py:90]\u001b[0m 'gen/B/blayer1/res0/conv2': [?, 384, 32, 32] --> [?, 128, 32, 32]\n",
      "\u001b[32m[1204 21:09:48 @registry.py:90]\u001b[0m 'gen/B/blayer1/res1/conv0': [?, 128, 32, 32] --> [?, 128, 32, 32]\n",
      "\u001b[32m[1204 21:09:48 @registry.py:90]\u001b[0m 'gen/B/blayer1/res1/conv1': [?, 128, 32, 32] --> [?, 128, 32, 32]\n",
      "\u001b[32m[1204 21:09:48 @registry.py:90]\u001b[0m 'gen/B/blayer1/res1/conv2': [?, 256, 32, 32] --> [?, 128, 32, 32]\n",
      "\u001b[32m[1204 21:09:48 @registry.py:90]\u001b[0m 'gen/B/blayer1/res2/conv0': [?, 128, 32, 32] --> [?, 128, 32, 32]\n",
      "\u001b[32m[1204 21:09:48 @registry.py:90]\u001b[0m 'gen/B/blayer1/res2/conv1': [?, 128, 32, 32] --> [?, 128, 32, 32]\n",
      "\u001b[32m[1204 21:09:48 @registry.py:90]\u001b[0m 'gen/B/blayer1/res2/conv2': [?, 256, 32, 32] --> [?, 128, 32, 32]\n",
      "\u001b[32m[1204 21:09:48 @registry.py:90]\u001b[0m 'gen/B/deconv2': [?, 128, 32, 32] --> [?, 64, 64, 64]\n",
      "\u001b[32m[1204 21:09:48 @registry.py:90]\u001b[0m 'gen/B/deconv3': [?, 64, 64, 64] --> [?, 3, 128, 128]\n",
      "\u001b[32m[1204 21:09:48 @registry.py:90]\u001b[0m 'gen/A/conv0': [?, 3, 128, 128] --> [?, 64, 64, 64]\n",
      "\u001b[32m[1204 21:09:48 @registry.py:90]\u001b[0m 'gen/A/conv1': [?, 64, 64, 64] --> [?, 128, 32, 32]\n",
      "\u001b[32m[1204 21:09:48 @registry.py:90]\u001b[0m 'gen/A/layer1/res0/conv0': [?, 128, 32, 32] --> [?, 128, 32, 32]\n",
      "\u001b[32m[1204 21:09:49 @registry.py:90]\u001b[0m 'gen/A/layer1/res0/conv1': [?, 128, 32, 32] --> [?, 128, 32, 32]\n",
      "\u001b[32m[1204 21:09:49 @registry.py:90]\u001b[0m 'gen/A/layer1/res0/conv2': [?, 256, 32, 32] --> [?, 128, 32, 32]\n",
      "\u001b[32m[1204 21:09:49 @registry.py:90]\u001b[0m 'gen/A/layer1/res1/conv0': [?, 128, 32, 32] --> [?, 128, 32, 32]\n",
      "\u001b[32m[1204 21:09:49 @registry.py:90]\u001b[0m 'gen/A/layer1/res1/conv1': [?, 128, 32, 32] --> [?, 128, 32, 32]\n",
      "\u001b[32m[1204 21:09:49 @registry.py:90]\u001b[0m 'gen/A/layer1/res1/conv2': [?, 256, 32, 32] --> [?, 128, 32, 32]\n",
      "\u001b[32m[1204 21:09:49 @registry.py:90]\u001b[0m 'gen/A/layer1/res2/conv0': [?, 128, 32, 32] --> [?, 128, 32, 32]\n",
      "\u001b[32m[1204 21:09:49 @registry.py:90]\u001b[0m 'gen/A/layer1/res2/conv1': [?, 128, 32, 32] --> [?, 128, 32, 32]\n",
      "\u001b[32m[1204 21:09:49 @registry.py:90]\u001b[0m 'gen/A/layer1/res2/conv2': [?, 256, 32, 32] --> [?, 128, 32, 32]\n",
      "\u001b[32m[1204 21:09:49 @registry.py:90]\u001b[0m 'gen/A/conv2': [?, 128, 32, 32] --> [?, 256, 16, 16]\n",
      "\u001b[32m[1204 21:09:49 @registry.py:90]\u001b[0m 'gen/A/layer2/res0/conv0': [?, 256, 16, 16] --> [?, 256, 16, 16]\n",
      "\u001b[32m[1204 21:09:49 @registry.py:90]\u001b[0m 'gen/A/layer2/res0/conv1': [?, 256, 16, 16] --> [?, 256, 16, 16]\n",
      "\u001b[32m[1204 21:09:49 @registry.py:90]\u001b[0m 'gen/A/layer2/res0/conv2': [?, 512, 16, 16] --> [?, 256, 16, 16]\n",
      "\u001b[32m[1204 21:09:49 @registry.py:90]\u001b[0m 'gen/A/layer2/res1/conv0': [?, 256, 16, 16] --> [?, 256, 16, 16]\n",
      "\u001b[32m[1204 21:09:49 @registry.py:90]\u001b[0m 'gen/A/layer2/res1/conv1': [?, 256, 16, 16] --> [?, 256, 16, 16]\n",
      "\u001b[32m[1204 21:09:49 @registry.py:90]\u001b[0m 'gen/A/layer2/res1/conv2': [?, 512, 16, 16] --> [?, 256, 16, 16]\n",
      "\u001b[32m[1204 21:09:49 @registry.py:90]\u001b[0m 'gen/A/layer2/res2/conv0': [?, 256, 16, 16] --> [?, 256, 16, 16]\n",
      "\u001b[32m[1204 21:09:49 @registry.py:90]\u001b[0m 'gen/A/layer2/res2/conv1': [?, 256, 16, 16] --> [?, 256, 16, 16]\n",
      "\u001b[32m[1204 21:09:49 @registry.py:90]\u001b[0m 'gen/A/layer2/res2/conv2': [?, 512, 16, 16] --> [?, 256, 16, 16]\n",
      "\u001b[32m[1204 21:09:49 @registry.py:90]\u001b[0m 'gen/A/conv3': [?, 256, 16, 16] --> [?, 512, 8, 8]\n"
     ]
    },
    {
     "name": "stdout",
     "output_type": "stream",
     "text": [
      "\u001b[32m[1204 21:09:49 @registry.py:90]\u001b[0m 'gen/A/layer3/res0/conv0': [?, 512, 8, 8] --> [?, 512, 8, 8]\n",
      "\u001b[32m[1204 21:09:49 @registry.py:90]\u001b[0m 'gen/A/layer3/res0/conv1': [?, 512, 8, 8] --> [?, 512, 8, 8]\n",
      "\u001b[32m[1204 21:09:49 @registry.py:90]\u001b[0m 'gen/A/layer3/res0/conv2': [?, 1024, 8, 8] --> [?, 512, 8, 8]\n",
      "\u001b[32m[1204 21:09:49 @registry.py:90]\u001b[0m 'gen/A/layer3/res1/conv0': [?, 512, 8, 8] --> [?, 512, 8, 8]\n",
      "\u001b[32m[1204 21:09:49 @registry.py:90]\u001b[0m 'gen/A/layer3/res1/conv1': [?, 512, 8, 8] --> [?, 512, 8, 8]\n",
      "\u001b[32m[1204 21:09:49 @registry.py:90]\u001b[0m 'gen/A/layer3/res1/conv2': [?, 1024, 8, 8] --> [?, 512, 8, 8]\n",
      "\u001b[32m[1204 21:09:50 @registry.py:90]\u001b[0m 'gen/A/layer3/res2/conv0': [?, 512, 8, 8] --> [?, 512, 8, 8]\n",
      "\u001b[32m[1204 21:09:50 @registry.py:90]\u001b[0m 'gen/A/layer3/res2/conv1': [?, 512, 8, 8] --> [?, 512, 8, 8]\n",
      "\u001b[32m[1204 21:09:50 @registry.py:90]\u001b[0m 'gen/A/layer3/res2/conv2': [?, 1024, 8, 8] --> [?, 512, 8, 8]\n",
      "\u001b[32m[1204 21:09:50 @registry.py:90]\u001b[0m 'gen/A/deconv0': [?, 512, 8, 8] --> [?, 256, 16, 16]\n",
      "\u001b[32m[1204 21:09:50 @registry.py:90]\u001b[0m 'gen/A/blayer2/res0/conv0': [?, 512, 16, 16] --> [?, 256, 16, 16]\n",
      "\u001b[32m[1204 21:09:50 @registry.py:90]\u001b[0m 'gen/A/blayer2/res0/conv1': [?, 256, 16, 16] --> [?, 256, 16, 16]\n",
      "\u001b[32m[1204 21:09:50 @registry.py:90]\u001b[0m 'gen/A/blayer2/res0/conv2': [?, 768, 16, 16] --> [?, 256, 16, 16]\n",
      "\u001b[32m[1204 21:09:50 @registry.py:90]\u001b[0m 'gen/A/blayer2/res1/conv0': [?, 256, 16, 16] --> [?, 256, 16, 16]\n",
      "\u001b[32m[1204 21:09:50 @registry.py:90]\u001b[0m 'gen/A/blayer2/res1/conv1': [?, 256, 16, 16] --> [?, 256, 16, 16]\n",
      "\u001b[32m[1204 21:09:50 @registry.py:90]\u001b[0m 'gen/A/blayer2/res1/conv2': [?, 512, 16, 16] --> [?, 256, 16, 16]\n",
      "\u001b[32m[1204 21:09:50 @registry.py:90]\u001b[0m 'gen/A/blayer2/res2/conv0': [?, 256, 16, 16] --> [?, 256, 16, 16]\n",
      "\u001b[32m[1204 21:09:50 @registry.py:90]\u001b[0m 'gen/A/blayer2/res2/conv1': [?, 256, 16, 16] --> [?, 256, 16, 16]\n",
      "\u001b[32m[1204 21:09:50 @registry.py:90]\u001b[0m 'gen/A/blayer2/res2/conv2': [?, 512, 16, 16] --> [?, 256, 16, 16]\n",
      "\u001b[32m[1204 21:09:50 @registry.py:90]\u001b[0m 'gen/A/deconv1': [?, 256, 16, 16] --> [?, 128, 32, 32]\n",
      "\u001b[32m[1204 21:09:50 @registry.py:90]\u001b[0m 'gen/A/blayer1/res0/conv0': [?, 256, 32, 32] --> [?, 128, 32, 32]\n",
      "\u001b[32m[1204 21:09:50 @registry.py:90]\u001b[0m 'gen/A/blayer1/res0/conv1': [?, 128, 32, 32] --> [?, 128, 32, 32]\n",
      "\u001b[32m[1204 21:09:50 @registry.py:90]\u001b[0m 'gen/A/blayer1/res0/conv2': [?, 384, 32, 32] --> [?, 128, 32, 32]\n",
      "\u001b[32m[1204 21:09:50 @registry.py:90]\u001b[0m 'gen/A/blayer1/res1/conv0': [?, 128, 32, 32] --> [?, 128, 32, 32]\n",
      "\u001b[32m[1204 21:09:50 @registry.py:90]\u001b[0m 'gen/A/blayer1/res1/conv1': [?, 128, 32, 32] --> [?, 128, 32, 32]\n",
      "\u001b[32m[1204 21:09:50 @registry.py:90]\u001b[0m 'gen/A/blayer1/res1/conv2': [?, 256, 32, 32] --> [?, 128, 32, 32]\n",
      "\u001b[32m[1204 21:09:50 @registry.py:90]\u001b[0m 'gen/A/blayer1/res2/conv0': [?, 128, 32, 32] --> [?, 128, 32, 32]\n",
      "\u001b[32m[1204 21:09:50 @registry.py:90]\u001b[0m 'gen/A/blayer1/res2/conv1': [?, 128, 32, 32] --> [?, 128, 32, 32]\n",
      "\u001b[32m[1204 21:09:50 @registry.py:90]\u001b[0m 'gen/A/blayer1/res2/conv2': [?, 256, 32, 32] --> [?, 128, 32, 32]\n",
      "\u001b[32m[1204 21:09:50 @registry.py:90]\u001b[0m 'gen/A/deconv2': [?, 128, 32, 32] --> [?, 64, 64, 64]\n",
      "\u001b[32m[1204 21:09:50 @registry.py:90]\u001b[0m 'gen/A/deconv3': [?, 64, 64, 64] --> [?, 3, 128, 128]\n",
      "\u001b[32m[1204 21:09:52 @registry.py:90]\u001b[0m 'discrim/A/conv0': [?, 3, 128, 128] --> [?, 128, 64, 64]\n",
      "\u001b[32m[1204 21:09:52 @registry.py:90]\u001b[0m 'discrim/A/conv1': [?, 128, 64, 64] --> [?, 256, 32, 32]\n",
      "\u001b[32m[1204 21:09:52 @registry.py:90]\u001b[0m 'discrim/A/conv2': [?, 256, 32, 32] --> [?, 512, 16, 16]\n",
      "\u001b[32m[1204 21:09:52 @registry.py:90]\u001b[0m 'discrim/A/convf': [?, 512, 16, 16] --> [?, 512, 16, 16]\n",
      "\u001b[32m[1204 21:09:52 @registry.py:90]\u001b[0m 'discrim/A/mConv': [?, 1024, 16, 16] --> [?, 512, 16, 16]\n",
      "\u001b[32m[1204 21:09:52 @registry.py:90]\u001b[0m 'discrim/A/lsconv': [?, 512, 16, 16] --> [?, 1, 16, 16]\n",
      "\u001b[32m[1204 21:09:52 @registry.py:90]\u001b[0m 'discrim/B/conv0': [?, 3, 128, 128] --> [?, 128, 64, 64]\n",
      "\u001b[32m[1204 21:09:52 @registry.py:90]\u001b[0m 'discrim/B/conv1': [?, 128, 64, 64] --> [?, 256, 32, 32]\n",
      "\u001b[32m[1204 21:09:52 @registry.py:90]\u001b[0m 'discrim/B/conv2': [?, 256, 32, 32] --> [?, 512, 16, 16]\n",
      "\u001b[32m[1204 21:09:52 @registry.py:90]\u001b[0m 'discrim/B/convf': [?, 512, 16, 16] --> [?, 512, 16, 16]\n",
      "\u001b[32m[1204 21:09:52 @registry.py:90]\u001b[0m 'discrim/B/mConv': [?, 1024, 16, 16] --> [?, 512, 16, 16]\n",
      "\u001b[32m[1204 21:09:52 @registry.py:90]\u001b[0m 'discrim/B/lsconv': [?, 512, 16, 16] --> [?, 1, 16, 16]\n"
     ]
    },
    {
     "ename": "AttributeError",
     "evalue": "'NoneType' object has no attribute 'endswith'",
     "output_type": "error",
     "traceback": [
      "\u001b[0;31m---------------------------------------------------------------------------\u001b[0m",
      "\u001b[0;31mAttributeError\u001b[0m                            Traceback (most recent call last)",
      "\u001b[0;32m<ipython-input-6-3f0741b6ffc5>\u001b[0m in \u001b[0;36m<module>\u001b[0;34m\u001b[0m\n\u001b[1;32m      7\u001b[0m                                 [(150, 2e-4), (300, 0)], interp='linear')],\n\u001b[1;32m      8\u001b[0m         \u001b[0msteps_per_epoch\u001b[0m\u001b[0;34m=\u001b[0m\u001b[0;36m1000\u001b[0m\u001b[0;34m,\u001b[0m\u001b[0;34m\u001b[0m\u001b[0;34m\u001b[0m\u001b[0m\n\u001b[0;32m----> 9\u001b[0;31m         \u001b[0msession_init\u001b[0m\u001b[0;34m=\u001b[0m\u001b[0mSaverRestore\u001b[0m\u001b[0;34m(\u001b[0m\u001b[0;32mNone\u001b[0m\u001b[0;34m)\u001b[0m\u001b[0;34m\u001b[0m\u001b[0;34m\u001b[0m\u001b[0m\n\u001b[0m\u001b[1;32m     10\u001b[0m     )\n",
      "\u001b[0;32m~/miniconda3/lib/python3.7/site-packages/tensorpack/tfutils/sessinit.py\u001b[0m in \u001b[0;36m__init__\u001b[0;34m(self, model_path, prefix, ignore)\u001b[0m\n\u001b[1;32m     99\u001b[0m             \u001b[0mignore\u001b[0m \u001b[0;34m(\u001b[0m\u001b[0mlist\u001b[0m\u001b[0;34m[\u001b[0m\u001b[0mstr\u001b[0m\u001b[0;34m]\u001b[0m\u001b[0;34m)\u001b[0m\u001b[0;34m:\u001b[0m \u001b[0mlist\u001b[0m \u001b[0mof\u001b[0m \u001b[0mtensor\u001b[0m \u001b[0mnames\u001b[0m \u001b[0mthat\u001b[0m \u001b[0mshould\u001b[0m \u001b[0mbe\u001b[0m \u001b[0mignored\u001b[0m \u001b[0mduring\u001b[0m \u001b[0mloading\u001b[0m\u001b[0;34m,\u001b[0m \u001b[0me\u001b[0m\u001b[0;34m.\u001b[0m\u001b[0mg\u001b[0m\u001b[0;34m.\u001b[0m \u001b[0mlearning\u001b[0m\u001b[0;34m-\u001b[0m\u001b[0mrate\u001b[0m\u001b[0;34m\u001b[0m\u001b[0;34m\u001b[0m\u001b[0m\n\u001b[1;32m    100\u001b[0m         \"\"\"\n\u001b[0;32m--> 101\u001b[0;31m         \u001b[0;32mif\u001b[0m \u001b[0mmodel_path\u001b[0m\u001b[0;34m.\u001b[0m\u001b[0mendswith\u001b[0m\u001b[0;34m(\u001b[0m\u001b[0;34m'.npy'\u001b[0m\u001b[0;34m)\u001b[0m \u001b[0;32mor\u001b[0m \u001b[0mmodel_path\u001b[0m\u001b[0;34m.\u001b[0m\u001b[0mendswith\u001b[0m\u001b[0;34m(\u001b[0m\u001b[0;34m'.npz'\u001b[0m\u001b[0;34m)\u001b[0m\u001b[0;34m:\u001b[0m\u001b[0;34m\u001b[0m\u001b[0;34m\u001b[0m\u001b[0m\n\u001b[0m\u001b[1;32m    102\u001b[0m             logger.warn(\"SaverRestore expect a TF checkpoint, but got a model path '{}'.\".format(model_path) +\n\u001b[1;32m    103\u001b[0m                         \" To load from a dict, use 'DictRestore'.\")\n",
      "\u001b[0;31mAttributeError\u001b[0m: 'NoneType' object has no attribute 'endswith'"
     ]
    }
   ],
   "source": [
    "SeparateGANTrainer(data, Model(),2).train_with_defaults(\n",
    "        callbacks=[\n",
    "            PeriodicTrigger(ModelSaver(), every_k_epochs=20),\n",
    "            PeriodicTrigger(VisualizeTestSet(data_dir), every_k_epochs=3),\n",
    "            ScheduledHyperParamSetter(\n",
    "                                'learning_rate',\n",
    "                                [(150, 2e-4), (300, 0)], interp='linear')],\n",
    "        steps_per_epoch=1000,\n",
    "        session_init=None\n",
    "    )"
   ]
  },
  {
   "cell_type": "code",
   "execution_count": null,
   "metadata": {},
   "outputs": [],
   "source": []
  }
 ],
 "metadata": {
  "kernelspec": {
   "display_name": "Python 3",
   "language": "python",
   "name": "python3"
  },
  "language_info": {
   "codemirror_mode": {
    "name": "ipython",
    "version": 3
   },
   "file_extension": ".py",
   "mimetype": "text/x-python",
   "name": "python",
   "nbconvert_exporter": "python",
   "pygments_lexer": "ipython3",
   "version": "3.7.1"
  }
 },
 "nbformat": 4,
 "nbformat_minor": 2
}
